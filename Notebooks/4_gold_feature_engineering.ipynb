{
 "cells": [
  {
   "cell_type": "code",
   "execution_count": 0,
   "metadata": {
    "application/vnd.databricks.v1+cell": {
     "cellMetadata": {
      "byteLimit": 2048000,
      "rowLimit": 10000
     },
     "inputWidgets": {},
     "nuid": "759bc894-91c6-4f4f-bdf1-1638841a65d9",
     "showTitle": false,
     "tableResultSettingsMap": {},
     "title": ""
    }
   },
   "outputs": [],
   "source": [
    "# Read cleaned data from Silver\n",
    "df_silver = spark.read.format(\"delta\").load(\"/mnt/attrition/silver/hr_cleaned/\")\n",
    "\n",
    "# Select relevant features for ML model\n",
    "df_gold = df_silver.select(\n",
    "    \"Age\", \"BusinessTravel\", \"Department\", \"DistanceFromHome\", \"Education\",\n",
    "    \"EducationField\", \"EnvironmentSatisfaction\", \"Gender\", \"JobRole\",\n",
    "    \"MaritalStatus\", \"MonthlyIncome\", \"NumCompaniesWorked\", \"OverTime\",\n",
    "    \"PercentSalaryHike\", \"TotalWorkingYears\", \"TrainingTimesLastYear\",\n",
    "    \"WorkLifeBalance\", \"YearsAtCompany\", \"YearsInCurrentRole\", \"Attrition\"\n",
    ")\n",
    "\n",
    "# Save ML-ready data to Gold layer\n",
    "df_gold.write.format(\"delta\").mode(\"overwrite\").save(\"/mnt/attrition/gold/hr_features/\")"
   ]
  }
 ],
 "metadata": {
  "application/vnd.databricks.v1+notebook": {
   "computePreferences": null,
   "dashboards": [],
   "environmentMetadata": {
    "base_environment": "",
    "environment_version": "2"
   },
   "inputWidgetPreferences": null,
   "language": "python",
   "notebookMetadata": {
    "pythonIndentUnit": 4
   },
   "notebookName": "4_gold_feature_engineering",
   "widgets": {}
  },
  "language_info": {
   "name": "python"
  }
 },
 "nbformat": 4,
 "nbformat_minor": 0
}