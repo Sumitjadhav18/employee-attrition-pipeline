{
 "cells": [
  {
   "cell_type": "code",
   "execution_count": 0,
   "metadata": {
    "application/vnd.databricks.v1+cell": {
     "cellMetadata": {
      "byteLimit": 2048000,
      "rowLimit": 10000
     },
     "inputWidgets": {},
     "nuid": "991d3f4d-fe12-44fb-a823-372d873251db",
     "showTitle": false,
     "tableResultSettingsMap": {},
     "title": ""
    }
   },
   "outputs": [
    {
     "output_type": "stream",
     "name": "stdout",
     "output_type": "stream",
     "text": [
      "root\n |-- Age: integer (nullable = true)\n |-- Attrition: string (nullable = true)\n |-- BusinessTravel: string (nullable = true)\n |-- DailyRate: integer (nullable = true)\n |-- Department: string (nullable = true)\n |-- DistanceFromHome: integer (nullable = true)\n |-- Education: integer (nullable = true)\n |-- EducationField: string (nullable = true)\n |-- EmployeeCount: integer (nullable = true)\n |-- EmployeeNumber: integer (nullable = true)\n |-- EnvironmentSatisfaction: integer (nullable = true)\n |-- Gender: string (nullable = true)\n |-- HourlyRate: integer (nullable = true)\n |-- JobInvolvement: integer (nullable = true)\n |-- JobLevel: integer (nullable = true)\n |-- JobRole: string (nullable = true)\n |-- JobSatisfaction: integer (nullable = true)\n |-- MaritalStatus: string (nullable = true)\n |-- MonthlyIncome: integer (nullable = true)\n |-- MonthlyRate: integer (nullable = true)\n |-- NumCompaniesWorked: integer (nullable = true)\n |-- Over18: string (nullable = true)\n |-- OverTime: string (nullable = true)\n |-- PercentSalaryHike: integer (nullable = true)\n |-- PerformanceRating: integer (nullable = true)\n |-- RelationshipSatisfaction: integer (nullable = true)\n |-- StandardHours: integer (nullable = true)\n |-- StockOptionLevel: integer (nullable = true)\n |-- TotalWorkingYears: integer (nullable = true)\n |-- TrainingTimesLastYear: integer (nullable = true)\n |-- WorkLifeBalance: integer (nullable = true)\n |-- YearsAtCompany: integer (nullable = true)\n |-- YearsInCurrentRole: integer (nullable = true)\n |-- YearsSinceLastPromotion: integer (nullable = true)\n |-- YearsWithCurrManager: integer (nullable = true)\n\n+---+---------+-----------------+---------+--------------------+----------------+---------+--------------+-------------+--------------+-----------------------+------+----------+--------------+--------+--------------------+---------------+-------------+-------------+-----------+------------------+------+--------+-----------------+-----------------+------------------------+-------------+----------------+-----------------+---------------------+---------------+--------------+------------------+-----------------------+--------------------+\n|Age|Attrition|   BusinessTravel|DailyRate|          Department|DistanceFromHome|Education|EducationField|EmployeeCount|EmployeeNumber|EnvironmentSatisfaction|Gender|HourlyRate|JobInvolvement|JobLevel|             JobRole|JobSatisfaction|MaritalStatus|MonthlyIncome|MonthlyRate|NumCompaniesWorked|Over18|OverTime|PercentSalaryHike|PerformanceRating|RelationshipSatisfaction|StandardHours|StockOptionLevel|TotalWorkingYears|TrainingTimesLastYear|WorkLifeBalance|YearsAtCompany|YearsInCurrentRole|YearsSinceLastPromotion|YearsWithCurrManager|\n+---+---------+-----------------+---------+--------------------+----------------+---------+--------------+-------------+--------------+-----------------------+------+----------+--------------+--------+--------------------+---------------+-------------+-------------+-----------+------------------+------+--------+-----------------+-----------------+------------------------+-------------+----------------+-----------------+---------------------+---------------+--------------+------------------+-----------------------+--------------------+\n| 41|      Yes|    Travel_Rarely|     1102|               Sales|               1|        2| Life Sciences|            1|             1|                      2|Female|        94|             3|       2|     Sales Executive|              4|       Single|         5993|      19479|                 8|     Y|     Yes|               11|                3|                       1|           80|               0|                8|                    0|              1|             6|                 4|                      0|                   5|\n| 49|       No|Travel_Frequently|      279|Research & Develo...|               8|        1| Life Sciences|            1|             2|                      3|  Male|        61|             2|       2|  Research Scientist|              2|      Married|         5130|      24907|                 1|     Y|      No|               23|                4|                       4|           80|               1|               10|                    3|              3|            10|                 7|                      1|                   7|\n| 37|      Yes|    Travel_Rarely|     1373|Research & Develo...|               2|        2|         Other|            1|             4|                      4|  Male|        92|             2|       1|Laboratory Techni...|              3|       Single|         2090|       2396|                 6|     Y|     Yes|               15|                3|                       2|           80|               0|                7|                    3|              3|             0|                 0|                      0|                   0|\n| 33|       No|Travel_Frequently|     1392|Research & Develo...|               3|        4| Life Sciences|            1|             5|                      4|Female|        56|             3|       1|  Research Scientist|              3|      Married|         2909|      23159|                 1|     Y|     Yes|               11|                3|                       3|           80|               0|                8|                    3|              3|             8|                 7|                      3|                   0|\n| 27|       No|    Travel_Rarely|      591|Research & Develo...|               2|        1|       Medical|            1|             7|                      1|  Male|        40|             3|       1|Laboratory Techni...|              2|      Married|         3468|      16632|                 9|     Y|      No|               12|                3|                       4|           80|               1|                6|                    3|              3|             2|                 2|                      2|                   2|\n+---+---------+-----------------+---------+--------------------+----------------+---------+--------------+-------------+--------------+-----------------------+------+----------+--------------+--------+--------------------+---------------+-------------+-------------+-----------+------------------+------+--------+-----------------+-----------------+------------------------+-------------+----------------+-----------------+---------------------+---------------+--------------+------------------+-----------------------+--------------------+\nonly showing top 5 rows\n\n"
     ]
    }
   ],
   "source": [
    "# Read raw HR attrition CSV from mounted Bronze path\n",
    "df_bronze = spark.read.option(\"header\", True).option(\"inferSchema\", True).csv(\n",
    "  \"/mnt/attrition/bronze/hr_attrition/WA_Fn-UseC_-HR-Employee-Attrition.csv\"\n",
    ")\n",
    "\n",
    "# Optional: preview schema\n",
    "df_bronze.printSchema()\n",
    "df_bronze.show(5)\n",
    "\n",
    "# Write to Delta format in Bronze Delta directory (optional, for consistent format)\n",
    "df_bronze.write.format(\"delta\").mode(\"overwrite\").save(\"/mnt/attrition/bronze/hr_attrition_delta/\")"
   ]
  }
 ],
 "metadata": {
  "application/vnd.databricks.v1+notebook": {
   "computePreferences": null,
   "dashboards": [],
   "environmentMetadata": {
    "base_environment": "",
    "environment_version": "2"
   },
   "inputWidgetPreferences": null,
   "language": "python",
   "notebookMetadata": {
    "pythonIndentUnit": 4
   },
   "notebookName": "2_bronze_ingestion",
   "widgets": {}
  },
  "language_info": {
   "name": "python"
  }
 },
 "nbformat": 4,
 "nbformat_minor": 0
}