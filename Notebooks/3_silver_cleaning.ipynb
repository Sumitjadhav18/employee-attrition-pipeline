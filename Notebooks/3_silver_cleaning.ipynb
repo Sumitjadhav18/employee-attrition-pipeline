{
 "cells": [
  {
   "cell_type": "code",
   "execution_count": 0,
   "metadata": {
    "application/vnd.databricks.v1+cell": {
     "cellMetadata": {
      "byteLimit": 2048000,
      "rowLimit": 10000
     },
     "inputWidgets": {},
     "nuid": "00314799-47ff-4d6e-bec9-ee36e53c2651",
     "showTitle": false,
     "tableResultSettingsMap": {},
     "title": ""
    }
   },
   "outputs": [],
   "source": [
    "from pyspark.sql.functions import when, col\n",
    "\n",
    "# Load data from Bronze Delta\n",
    "df_bronze = spark.read.format(\"delta\").load(\"/mnt/attrition/bronze/hr_attrition_delta/\")\n",
    "\n",
    "# Clean and transform\n",
    "df_silver = df_bronze.withColumn(\"Attrition\", when(col(\"Attrition\") == \"Yes\", 1).otherwise(0))\n",
    "df_silver = df_silver.withColumn(\"MonthlyIncome\", col(\"MonthlyIncome\").cast(\"double\"))\n",
    "\n",
    "# Drop nulls (optional)\n",
    "df_silver = df_silver.na.drop()\n",
    "\n",
    "# Save cleaned data to Silver layer\n",
    "df_silver.write.format(\"delta\").mode(\"overwrite\").save(\"/mnt/attrition/silver/hr_cleaned/\")"
   ]
  }
 ],
 "metadata": {
  "application/vnd.databricks.v1+notebook": {
   "computePreferences": null,
   "dashboards": [],
   "environmentMetadata": {
    "base_environment": "",
    "environment_version": "2"
   },
   "inputWidgetPreferences": null,
   "language": "python",
   "notebookMetadata": {
    "pythonIndentUnit": 4
   },
   "notebookName": "3_silver_cleaning",
   "widgets": {}
  },
  "language_info": {
   "name": "python"
  }
 },
 "nbformat": 4,
 "nbformat_minor": 0
}